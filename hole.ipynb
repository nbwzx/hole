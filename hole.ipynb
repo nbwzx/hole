{
 "cells": [
  {
   "cell_type": "code",
   "execution_count": 1,
   "metadata": {},
   "outputs": [],
   "source": [
    "# Kernel Idle: SageMath 9.3\n",
    "# Author: Zixing Wang\n",
    "# License: MIT"
   ]
  },
  {
   "cell_type": "code",
   "execution_count": 2,
   "metadata": {},
   "outputs": [],
   "source": [
    "G = SymmetricGroup(24)"
   ]
  },
  {
   "cell_type": "code",
   "execution_count": 3,
   "metadata": {},
   "outputs": [],
   "source": [
    "def commutator(a, b):\n",
    "    return a * b * a ^ (-1) * b ^ (-1)"
   ]
  },
  {
   "cell_type": "code",
   "execution_count": 4,
   "metadata": {},
   "outputs": [],
   "source": [
    "def ghole(count, period, info, number):\n",
    "    # ---------------------\n",
    "    # count-空穴数\n",
    "    # ---------------------\n",
    "    # period-块类型:\n",
    "    # 2:棱块\n",
    "    # 3:角块\n",
    "    # ---------------------\n",
    "    # block-当前空穴块被什么替换:\n",
    "    # 0:非空穴块替换\n",
    "    # i(i>0):被i号空穴块替换\n",
    "    # ---------------------\n",
    "    # info-信息:\n",
    "    # 块位置, 色相\n",
    "    # ---------------------\n",
    "    # 棱色相:\n",
    "    # 0:无翻\n",
    "    # 1:翻色\n",
    "    # ---------------------\n",
    "    # 角色相:\n",
    "    # 0:无翻\n",
    "    # 1:顺翻\n",
    "    # 2:逆翻\n",
    "    # ---------------------\n",
    "    array = [0] * 24\n",
    "    start = count * period * number + 1\n",
    "    for j in range(2 * count, start - 1):\n",
    "        array[j] = j + 1\n",
    "    for i in range(count):\n",
    "        if info[2 * i] == 0:\n",
    "            if info[2 * i + 1] == 0:\n",
    "                for r in range(period):\n",
    "                    array[period * i + r] = start\n",
    "                    start = start + 1\n",
    "        for j in range(count):\n",
    "            if info[2 * i] == j + 1:\n",
    "                for k in range(period):\n",
    "                    if info[2 * i + 1] == k:\n",
    "                        for r in range(period):\n",
    "                            array[period * i + r] = period * \\\n",
    "                                j + 1 + (k + r) % period\n",
    "    for i in range(24):\n",
    "        if i + 1 in array:\n",
    "            continue\n",
    "        for j in range(24):\n",
    "            if array[j] == 0:\n",
    "                array[j] = i + 1\n",
    "                break\n",
    "    return G(array)"
   ]
  },
  {
   "cell_type": "code",
   "execution_count": 5,
   "metadata": {},
   "outputs": [],
   "source": [
    "def switch(case, period):\n",
    "    if case == \"(3)循环带0翻色\":\n",
    "        return \"三循环\"\n",
    "    elif case == \"(3!)循环带1翻色\":\n",
    "        return \"三循环带翻\"\n",
    "    elif case == \"(3)循环带2翻色\":\n",
    "        return \"三循环带两翻\"\n",
    "    elif case == \"(3,3)循环带0翻色\":\n",
    "        return \"双三循环\"\n",
    "    elif case == \"(5)循环带0翻色\":\n",
    "        return \"五循环\"\n",
    "    elif case == \"(2,2)循环带0翻色\":\n",
    "        if period == 2:\n",
    "            return \"2e2e\"\n",
    "        if period == 3:\n",
    "            return \"2c2c\"\n",
    "    elif case == \"(2!,2!)循环带0翻色\":\n",
    "        if period == 2:\n",
    "            return \"2e2e含翻\"\n",
    "        if period == 3:\n",
    "            return \"2c2c含翻\"\n",
    "    elif case == \"()循环带0翻色\":\n",
    "        return \"空公式\"\n",
    "    elif case == \"()循环带2翻色\":\n",
    "        if period == 2:\n",
    "            return \"两棱翻\"\n",
    "        if period == 3:\n",
    "            return \"两角翻\"\n",
    "    elif case == \"()循环带3翻色\":\n",
    "        if period == 3:\n",
    "            return \"三角翻\"\n",
    "    elif case == \"()循环带4翻色\":\n",
    "        if period == 2:\n",
    "            return \"四棱翻\"\n",
    "        if period == 3:\n",
    "            return \"四角翻\"\n",
    "    return case"
   ]
  },
  {
   "cell_type": "code",
   "execution_count": 6,
   "metadata": {},
   "outputs": [],
   "source": [
    "def gtype(ginput, period):\n",
    "    gwork = ginput.cycles()\n",
    "    list_style = []\n",
    "    count_orientation = 0\n",
    "    for i in gwork:\n",
    "        work_list = []\n",
    "        for x in range(24):\n",
    "            if i(x) != x:\n",
    "                work_list.append(x)\n",
    "        if work_list[0] % period == 1:\n",
    "            if len(work_list) == period and work_list[1] - work_list[0] < period:\n",
    "                count_orientation = count_orientation + 1\n",
    "            else:\n",
    "                if work_list[0] + 1 in work_list:\n",
    "                    list_style.append(str(len(work_list) / period) + \"!\")\n",
    "                else:\n",
    "                    list_style.append(str(len(work_list)))\n",
    "    list_style.sort()\n",
    "    return switch(\"(\" + \",\".join(list_style) + \")\" + \"循环\" + \"带\" + str(count_orientation) + \"翻色\", period)"
   ]
  },
  {
   "cell_type": "code",
   "execution_count": 7,
   "metadata": {},
   "outputs": [],
   "source": [
    "def get_array(count, period, number):\n",
    "    if count == 2:\n",
    "        if period == 2:\n",
    "            return [[ghole(2, 2, [0, 0, 0, 0], number), \"完全替换\", \"完全替换\", \"全\"],\n",
    "                    [ghole(2, 2, [2, 0, 0, 0], number), \"无翻半替换1\", \"半替换\", \"半\"],\n",
    "                    [ghole(2, 2, [0, 0, 1, 0], number), \"无翻半替换2\", \"半替换\", \"半\"],\n",
    "                    [ghole(2, 2, [2, 1, 0, 0], number), \"单翻半替换1\", \"半替换\", \"半\"],\n",
    "                    [ghole(2, 2, [0, 0, 1, 1], number), \"单翻半替换2\", \"半替换\", \"半\"],\n",
    "                    [ghole(2, 2, [2, 0, 1, 0], number), \"无翻互相替换\", \"互相替换\", \"互\"],\n",
    "                    [ghole(2, 2, [2, 1, 1, 1], number), \"双翻互相替换\", \"互相替换\", \"互\"],\n",
    "                    [ghole(2, 2, [1, 1, 0, 0], number), \"单翻1\", \"单翻\", \"单翻\"],\n",
    "                    [ghole(2, 2, [0, 0, 2, 1], number), \"单翻2\", \"单翻\", \"单翻\"],\n",
    "                    [ghole(2, 2, [1, 1, 2, 1], number), \"双翻\", \"双翻\", \"双翻\"]]\n",
    "        if period == 3:\n",
    "            return [[ghole(2, 3, [0, 0, 0, 0], number), \"完全替换\", \"完全替换\", \"全\"],\n",
    "                    [ghole(2, 3, [2, 0, 0, 0], number), \"无翻半替换1\", \"半替换\", \"半\"],\n",
    "                    [ghole(2, 3, [0, 0, 1, 0], number), \"无翻半替换2\", \"半替换\", \"半\"],\n",
    "                    [ghole(2, 3, [2, 1, 0, 0], number), \"顺翻半替换1\", \"半替换\", \"半\"],\n",
    "                    [ghole(2, 3, [0, 0, 1, 1], number), \"顺翻半替换2\", \"半替换\", \"半\"],\n",
    "                    [ghole(2, 3, [2, 2, 0, 0], number), \"逆翻半替换1\", \"半替换\", \"半\"],\n",
    "                    [ghole(2, 3, [0, 0, 1, 2], number), \"逆翻半替换2\", \"半替换\", \"半\"],\n",
    "                    [ghole(2, 3, [2, 0, 1, 0], number), \"无翻互相替换\", \"互相替换\", \"互\"],\n",
    "                    [ghole(2, 3, [2, 1, 1, 2], number), \"顺逆翻互相替换\", \"互相替换\", \"互\"],\n",
    "                    [ghole(2, 3, [2, 2, 1, 1], number), \"逆顺翻互相替换\", \"互相替换\", \"互\"],\n",
    "                    [ghole(2, 3, [1, 1, 0, 0], number), \"顺翻1\", \"单翻\", \"单翻\"],\n",
    "                    [ghole(2, 3, [0, 0, 2, 1], number), \"顺翻2\", \"单翻\", \"单翻\"],\n",
    "                    [ghole(2, 3, [1, 2, 0, 0], number), \"逆翻1\", \"单翻\", \"单翻\"],\n",
    "                    [ghole(2, 3, [0, 0, 2, 2], number), \"逆翻2\", \"单翻\", \"单翻\"],\n",
    "                    [ghole(2, 3, [1, 1, 2, 1], number), \"顺顺翻\", \"双翻\", \"双翻\"],\n",
    "                    [ghole(2, 3, [1, 1, 2, 2], number), \"顺逆翻\", \"双翻\", \"双翻\"],\n",
    "                    [ghole(2, 3, [1, 2, 2, 1], number), \"逆顺翻\", \"双翻\", \"双翻\"],\n",
    "                    [ghole(2, 3, [1, 2, 2, 2], number), \"逆逆翻\", \"双翻\", \"双翻\"]]"
   ]
  },
  {
   "cell_type": "code",
   "execution_count": 8,
   "metadata": {},
   "outputs": [],
   "source": [
    "def print_data(count, period, index):\n",
    "    if count == 2:\n",
    "        if period == 2:\n",
    "            print(\"双空穴-棱块：\")\n",
    "        if period == 3:\n",
    "            print(\"双空穴-角块：\")\n",
    "    array1 = get_array(count, period, 1)\n",
    "    array2 = get_array(count, period, 2)\n",
    "    n = len(array1)\n",
    "    data = {}\n",
    "    for i in range(n):\n",
    "        for j in range(i, n):\n",
    "            res = gtype(commutator(array1[i][0], array2[j][0]), period)\n",
    "            if (array1[i][index], array1[j][index]) in data:\n",
    "                if res not in data[array1[i][index], array1[j][index]]:\n",
    "                    data[array1[i][index], array1[j][index]].append(res)\n",
    "            else:\n",
    "                data[array1[i][index], array1[j][index]] = [res]\n",
    "    for item in data:\n",
    "        data[item].sort()\n",
    "        print(item[0] + \" + \" + item[1] + \" = \" + \", \".join(data[item]))"
   ]
  },
  {
   "cell_type": "code",
   "execution_count": 9,
   "metadata": {},
   "outputs": [
    {
     "name": "stdout",
     "output_type": "stream",
     "text": [
      "双空穴-棱块：\n",
      "完全替换 + 完全替换 = 双三循环\n",
      "完全替换 + 半替换 = 五循环\n",
      "完全替换 + 互相替换 = 2e2e\n",
      "完全替换 + 单翻 = 三循环带两翻\n",
      "完全替换 + 双翻 = 四棱翻\n",
      "半替换 + 半替换 = 2e2e, 2e2e含翻\n",
      "半替换 + 互相替换 = 三循环\n",
      "半替换 + 单翻 = 三循环带翻\n",
      "半替换 + 双翻 = 两棱翻\n",
      "互相替换 + 互相替换 = 空公式\n",
      "互相替换 + 单翻 = 三循环\n",
      "互相替换 + 双翻 = 空公式\n",
      "单翻 + 单翻 = 三循环, 四棱翻\n",
      "单翻 + 双翻 = 两棱翻\n",
      "双翻 + 双翻 = 空公式\n"
     ]
    }
   ],
   "source": [
    "print_data(2, 2, 2)"
   ]
  },
  {
   "cell_type": "code",
   "execution_count": 10,
   "metadata": {},
   "outputs": [
    {
     "name": "stdout",
     "output_type": "stream",
     "text": [
      "双空穴-角块：\n",
      "完全替换 + 完全替换 = 双三循环\n",
      "完全替换 + 半替换 = 五循环\n",
      "完全替换 + 互相替换 = 2c2c\n",
      "完全替换 + 单翻 = 三循环带两翻\n",
      "完全替换 + 双翻 = 四角翻\n",
      "半替换 + 半替换 = 2c2c, 2c2c含翻\n",
      "半替换 + 互相替换 = 三循环\n",
      "半替换 + 单翻 = 三循环带翻\n",
      "半替换 + 双翻 = 三角翻, 两角翻\n",
      "互相替换 + 互相替换 = 两角翻, 空公式\n",
      "互相替换 + 单翻 = 三循环\n",
      "互相替换 + 双翻 = 两角翻, 空公式\n",
      "单翻 + 单翻 = 三循环, 四角翻\n",
      "单翻 + 双翻 = 两角翻\n",
      "双翻 + 双翻 = 空公式\n"
     ]
    }
   ],
   "source": [
    "print_data(2, 3, 2)"
   ]
  }
 ],
 "metadata": {
  "kernelspec": {
   "display_name": "SageMath 9.3",
   "language": "sage",
   "name": "sagemath"
  },
  "language_info": {
   "codemirror_mode": {
    "name": "ipython",
    "version": 3
   },
   "file_extension": ".py",
   "mimetype": "text/x-python",
   "name": "python",
   "nbconvert_exporter": "python",
   "pygments_lexer": "ipython3",
   "version": "3.7.10"
  }
 },
 "nbformat": 4,
 "nbformat_minor": 4
}
